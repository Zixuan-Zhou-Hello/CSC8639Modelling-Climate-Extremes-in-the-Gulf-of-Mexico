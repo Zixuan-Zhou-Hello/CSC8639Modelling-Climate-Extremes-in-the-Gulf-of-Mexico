{
  "nbformat": 4,
  "nbformat_minor": 0,
  "metadata": {
    "colab": {
      "provenance": [],
      "mount_file_id": "1ydj3-t3JQx6l-SxmgnrerK1M9Bu2PoCi",
      "authorship_tag": "ABX9TyOdRfq9+L/kqfyQY/rJ6GQG",
      "include_colab_link": true
    },
    "kernelspec": {
      "name": "python3",
      "display_name": "Python 3"
    },
    "language_info": {
      "name": "python"
    }
  },
  "cells": [
    {
      "cell_type": "markdown",
      "metadata": {
        "id": "view-in-github",
        "colab_type": "text"
      },
      "source": [
        "<a href=\"https://colab.research.google.com/github/Zixuan-Zhou-Hello/CSC8639Modelling-Climate-Extremes-in-the-Gulf-of-Mexico/blob/main/data.ipynb\" target=\"_parent\"><img src=\"https://colab.research.google.com/assets/colab-badge.svg\" alt=\"Open In Colab\"/></a>"
      ]
    },
    {
      "cell_type": "markdown",
      "source": [
        "每日最高海浪"
      ],
      "metadata": {
        "id": "f-bV4tpZxPoK"
      }
    },
    {
      "cell_type": "code",
      "source": [
        "print(df.columns)"
      ],
      "metadata": {
        "colab": {
          "base_uri": "https://localhost:8080/"
        },
        "id": "WfIcPaaad-l-",
        "outputId": "0c4b95c7-b4bf-4414-c7af-5910d782db54"
      },
      "execution_count": null,
      "outputs": [
        {
          "output_type": "stream",
          "name": "stdout",
          "text": [
            "Index(['date', 'Verified (ft)', 'source_file'], dtype='object')\n"
          ]
        }
      ]
    },
    {
      "cell_type": "markdown",
      "source": [
        "合并数据集"
      ],
      "metadata": {
        "id": "WUCbY1ZeyHQv"
      }
    },
    {
      "cell_type": "code",
      "source": [
        "import os\n",
        "import pandas as pd\n",
        "\n",
        "# 文件夹路径\n",
        "folder_path = '/content/drive/MyDrive/Colab Notebooks/dailyhighest'\n",
        "\n",
        "# 获取所有文件名\n",
        "files = os.listdir(folder_path)\n",
        "\n",
        "# 过滤出CSV文件\n",
        "csv_files = [f for f in files if f.endswith('.csv')]\n",
        "\n",
        "# 创建一个空的数据框来存储汇总数据\n",
        "combined_df = pd.DataFrame()\n",
        "\n",
        "# 读取每个CSV文件并汇总\n",
        "for csv_file in csv_files:\n",
        "    file_path = os.path.join(folder_path, csv_file)\n",
        "    df = pd.read_csv(file_path)\n",
        "    combined_df = pd.concat([combined_df, df])\n",
        "\n",
        "# 将日期列转换为datetime类型\n",
        "combined_df['date'] = pd.to_datetime(combined_df['date'])\n",
        "\n",
        "# 检查是否存在重复数据\n",
        "duplicate_rows = combined_df[combined_df.duplicated(subset=['date'], keep=False)]\n",
        "\n",
        "# 输出重复数据\n",
        "if not duplicate_rows.empty:\n",
        "    print(\"存在重复数据:\")\n",
        "    print(duplicate_rows)\n",
        "\n",
        "    # 处理重复数据，这里选择保留第一次出现的重复行\n",
        "    combined_df = combined_df.drop_duplicates(subset=['date'], keep='first')\n",
        "\n",
        "# 将汇总的数据框按日期列排序\n",
        "combined_df = combined_df.sort_values(by='date')\n",
        "\n",
        "# 保存汇总结果到新的CSV文件\n",
        "output_file_path = '/content/drive/MyDrive/Colab Notebooks/combined_highest_wave.csv'\n",
        "combined_df.to_csv(output_file_path, index=False)\n",
        "\n",
        "print(f\"汇总后的数据已保存到 {output_file_path}\")\n"
      ],
      "metadata": {
        "id": "XxhUuW2b68Em",
        "outputId": "f392be63-978f-4f86-ef5b-832d71eeeb4e",
        "colab": {
          "base_uri": "https://localhost:8080/"
        }
      },
      "execution_count": null,
      "outputs": [
        {
          "output_type": "stream",
          "name": "stdout",
          "text": [
            "存在重复数据:\n",
            "            date Verified (ft)                source_file\n",
            "0     2004-01-01         -1.17  CO-OPS_8729840_wl2004.csv\n",
            "1     2004-01-02         -1.29  CO-OPS_8729840_wl2004.csv\n",
            "2     2004-01-03          0.08  CO-OPS_8729840_wl2004.csv\n",
            "3     2004-01-04           0.2  CO-OPS_8729840_wl2004.csv\n",
            "4     2004-01-05          0.51  CO-OPS_8729840_wl2004.csv\n",
            "...          ...           ...                        ...\n",
            "10952 2003-12-27          0.03  CO-OPS_8729840_wl2003.csv\n",
            "10953 2003-12-28          0.18  CO-OPS_8729840_wl2003.csv\n",
            "10954 2003-12-29          0.31  CO-OPS_8729840_wl2003.csv\n",
            "10955 2003-12-30           0.1  CO-OPS_8729840_wl2003.csv\n",
            "10956 2003-12-31         -0.82  CO-OPS_8729840_wl2003.csv\n",
            "\n",
            "[21914 rows x 3 columns]\n",
            "汇总后的数据已保存到 /content/drive/MyDrive/Colab Notebooks/combined_highest_wave.csv\n"
          ]
        }
      ]
    }
  ]
}